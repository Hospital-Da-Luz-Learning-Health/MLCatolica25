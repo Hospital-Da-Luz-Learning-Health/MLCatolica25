{
 "cells": [
  {
   "cell_type": "markdown",
   "id": "784c8d83",
   "metadata": {},
   "source": [
    "# Pandas Series 101 - Learning Notebook\n",
    "----"
   ]
  },
  {
   "cell_type": "markdown",
   "id": "7ba57579",
   "metadata": {},
   "source": [
    "![](https://i.pinimg.com/474x/6a/18/df/6a18dff64059bb388ed1046c0f2cc350.jpg)"
   ]
  },
  {
   "cell_type": "markdown",
   "id": "cccaec34",
   "metadata": {},
   "source": [
    "Pandas let's you read data and work with data in very simple and powerful ways"
   ]
  },
  {
   "cell_type": "markdown",
   "id": "3037be6d",
   "metadata": {},
   "source": [
    "# Contents\n",
    "\n",
    "You will learn about pandas Series, specifically:\n",
    "1. How to create pandas Series\n",
    "2. What are indexes and how to access data through them\n",
    "    1. Two very important operations `.loc` and `.iloc`\n",
    "3. Common operations you can do with pandas series (ToDo)"
   ]
  },
  {
   "cell_type": "markdown",
   "id": "000a2653",
   "metadata": {},
   "source": [
    "# Imports"
   ]
  },
  {
   "cell_type": "code",
   "execution_count": 1,
   "id": "dcce5ca9",
   "metadata": {},
   "outputs": [],
   "source": [
    "import pandas as pd"
   ]
  },
  {
   "cell_type": "markdown",
   "id": "b16e06ce",
   "metadata": {},
   "source": [
    "# What is a Pandas Series\n",
    "\n",
    "A pandas Series is a 1-dimensional array of data. The documentation for pandas.Series can be accessed through [this link](https://pandas.pydata.org/pandas-docs/stable/reference/api/pandas.Series.html)"
   ]
  },
  {
   "cell_type": "markdown",
   "id": "aec87ff9",
   "metadata": {},
   "source": [
    "# Creating a Pandas Series\n",
    "\n",
    "Creating a pandas series is very easy, you just have to call the pd.Series object on some [Iterable data](https://www.pythonlikeyoumeanit.com/Module2_EssentialsOfPython/Iterables.html) (eg.: python list, range, tuple, numpy array, etc...) that is 1-dimensional."
   ]
  },
  {
   "cell_type": "code",
   "execution_count": 2,
   "id": "ca03fc17",
   "metadata": {},
   "outputs": [
    {
     "data": {
      "text/plain": [
       "0    Washington, D.C.\n",
       "1              Ottawa\n",
       "2              London\n",
       "3              Berlin\n",
       "4               Paris\n",
       "5               Tokyo\n",
       "6            Canberra\n",
       "7            Brasília\n",
       "8           New Delhi\n",
       "9             Beijing\n",
       "dtype: object"
      ]
     },
     "execution_count": 2,
     "metadata": {},
     "output_type": "execute_result"
    }
   ],
   "source": [
    "pd.Series(['Washington, D.C.', 'Ottawa', 'London', 'Berlin', 'Paris', 'Tokyo', 'Canberra', 'Brasília', 'New Delhi', 'Beijing'])"
   ]
  },
  {
   "cell_type": "markdown",
   "id": "f5db3b0c",
   "metadata": {},
   "source": [
    "You can also pass in a dictionary"
   ]
  },
  {
   "cell_type": "code",
   "execution_count": 3,
   "id": "7f20236f",
   "metadata": {},
   "outputs": [
    {
     "data": {
      "text/plain": [
       "United States     Washington, D.C.\n",
       "Canada                      Ottawa\n",
       "United Kingdom              London\n",
       "Germany                     Berlin\n",
       "France                       Paris\n",
       "Japan                        Tokyo\n",
       "Australia                 Canberra\n",
       "Brazil                    Brasília\n",
       "India                    New Delhi\n",
       "China                      Beijing\n",
       "dtype: object"
      ]
     },
     "execution_count": 3,
     "metadata": {},
     "output_type": "execute_result"
    }
   ],
   "source": [
    "country_capital_dict = {\n",
    "    'United States': 'Washington, D.C.',\n",
    "    'Canada': 'Ottawa',\n",
    "    'United Kingdom': 'London',\n",
    "    'Germany': 'Berlin',\n",
    "    'France': 'Paris',\n",
    "    'Japan': 'Tokyo',\n",
    "    'Australia': 'Canberra',\n",
    "    'Brazil': 'Brasília',\n",
    "    'India': 'New Delhi',\n",
    "    'China': 'Beijing'\n",
    "}\n",
    "\n",
    "pd.Series(country_capital_dict)"
   ]
  },
  {
   "cell_type": "markdown",
   "id": "4eac4fac",
   "metadata": {},
   "source": [
    "# Indexes"
   ]
  },
  {
   "cell_type": "markdown",
   "id": "f1026128",
   "metadata": {},
   "source": [
    "Noticed the indexes up there? When you pass in an `List`, pandas will automatically create an index for you starting from 0.\n",
    "\n",
    "But you can also use dictionaries to create a pandas series. The `keys` will be the index of the series , and the dictionary `values` will be the data of the series."
   ]
  },
  {
   "cell_type": "markdown",
   "id": "2ed007ed",
   "metadata": {},
   "source": [
    "## How to access data in pandas Series?"
   ]
  },
  {
   "cell_type": "markdown",
   "id": "e70b281f",
   "metadata": {},
   "source": [
    "Why are indexes useful in pandas Series? They allow you to access data more easily:"
   ]
  },
  {
   "cell_type": "code",
   "execution_count": 4,
   "id": "ff8cc9ad",
   "metadata": {},
   "outputs": [
    {
     "data": {
      "text/plain": [
       "Google       Larry\n",
       "Microsoft     Bill\n",
       "Facebook      Mark\n",
       "Apple        Steve\n",
       "dtype: object"
      ]
     },
     "execution_count": 4,
     "metadata": {},
     "output_type": "execute_result"
    }
   ],
   "source": [
    "ceos = pd.Series(data=[\"Larry\", \"Bill\", \"Mark\", \"Steve\"], \n",
    "               index=[\"Google\", \"Microsoft\", \"Facebook\", \"Apple\"])\n",
    "ceos"
   ]
  },
  {
   "cell_type": "markdown",
   "id": "57c2e5c9",
   "metadata": {},
   "source": [
    "We can access a specific row using the index value with `.loc[]`:\n",
    "\n",
    "> what is the value associated with the index `Google`?"
   ]
  },
  {
   "cell_type": "code",
   "execution_count": 5,
   "id": "370f22ee",
   "metadata": {},
   "outputs": [
    {
     "data": {
      "text/plain": [
       "'Larry'"
      ]
     },
     "execution_count": 5,
     "metadata": {},
     "output_type": "execute_result"
    }
   ],
   "source": [
    "ceos.loc['Google']"
   ]
  },
  {
   "cell_type": "markdown",
   "id": "3fda292e",
   "metadata": {},
   "source": [
    "We can also access by index position like we already do in lists using `.iloc[]`:\n",
    "\n",
    "> What is the first row of `ceos`?"
   ]
  },
  {
   "cell_type": "code",
   "execution_count": 6,
   "id": "c5b8ff4b",
   "metadata": {},
   "outputs": [
    {
     "data": {
      "text/plain": [
       "'Larry'"
      ]
     },
     "execution_count": 6,
     "metadata": {},
     "output_type": "execute_result"
    }
   ],
   "source": [
    "ceos.iloc[0]"
   ]
  },
  {
   "cell_type": "markdown",
   "id": "e02fc34d",
   "metadata": {},
   "source": [
    "Negative indexing work like in lists"
   ]
  },
  {
   "cell_type": "code",
   "execution_count": 7,
   "id": "b959d459",
   "metadata": {},
   "outputs": [
    {
     "data": {
      "text/plain": [
       "'Steve'"
      ]
     },
     "execution_count": 7,
     "metadata": {},
     "output_type": "execute_result"
    }
   ],
   "source": [
    "ceos.iloc[-1] # get me the last value of this series"
   ]
  },
  {
   "cell_type": "markdown",
   "id": "a1068a43",
   "metadata": {},
   "source": [
    "And of course, slicing also works here"
   ]
  },
  {
   "cell_type": "code",
   "execution_count": 8,
   "id": "2e76a7f9",
   "metadata": {},
   "outputs": [
    {
     "data": {
      "text/plain": [
       "Microsoft    Bill\n",
       "Facebook     Mark\n",
       "dtype: object"
      ]
     },
     "execution_count": 8,
     "metadata": {},
     "output_type": "execute_result"
    }
   ],
   "source": [
    "ceos.iloc[1:3] # returns another Series object with only these two elements! "
   ]
  },
  {
   "cell_type": "markdown",
   "id": "5876bce5",
   "metadata": {},
   "source": [
    "What is the difference between **.loc** and **.iloc**?\n",
    "\n",
    "- **.loc**: access values exactly like they appear on the index\n",
    "- **.iloc**: access **i**ndex positions"
   ]
  },
  {
   "cell_type": "markdown",
   "id": "614c95f4",
   "metadata": {},
   "source": [
    "![](../media/dory.jpg)"
   ]
  }
 ],
 "metadata": {
  "kernelspec": {
   "display_name": "Python 3 (ipykernel)",
   "language": "python",
   "name": "python3"
  },
  "language_info": {
   "codemirror_mode": {
    "name": "ipython",
    "version": 3
   },
   "file_extension": ".py",
   "mimetype": "text/x-python",
   "name": "python",
   "nbconvert_exporter": "python",
   "pygments_lexer": "ipython3",
   "version": "3.12.3"
  }
 },
 "nbformat": 4,
 "nbformat_minor": 5
}
